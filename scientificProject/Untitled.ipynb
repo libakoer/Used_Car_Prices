{
 "cells": [
  {
   "cell_type": "code",
   "execution_count": 3,
   "id": "f6f03334-6b3a-4454-bb22-ae5a593c1820",
   "metadata": {},
   "outputs": [
    {
     "ename": "NameError",
     "evalue": "name 'DataNormalizer' is not defined",
     "output_type": "error",
     "traceback": [
      "\u001b[1;31m---------------------------------------------------------------------------\u001b[0m",
      "\u001b[1;31mNameError\u001b[0m                                 Traceback (most recent call last)",
      "Cell \u001b[1;32mIn[3], line 1\u001b[0m\n\u001b[1;32m----> 1\u001b[0m normalizer \u001b[38;5;241m=\u001b[39m DataNormalizer()\n\u001b[0;32m      2\u001b[0m normalizer\u001b[38;5;241m.\u001b[39mfit(\u001b[38;5;124m\"\u001b[39m\u001b[38;5;124mdata\u001b[39m\u001b[38;5;124m\"\u001b[39m)\n",
      "\u001b[1;31mNameError\u001b[0m: name 'DataNormalizer' is not defined"
     ]
    }
   ],
   "source": [
    "normalizer = DataNormalizer()\n",
    "normalizer.fit(\"data\")"
   ]
  },
  {
   "cell_type": "code",
   "execution_count": 1,
   "id": "3450ac71-5eb9-4e35-9b8b-e2321a86cec6",
   "metadata": {},
   "outputs": [],
   "source": [
    "\n",
    "import pandas as pd\n",
    "import os\n",
    "import numpy as np\n",
    "import seaborn\n",
    "from glob import glob\n",
    "from datetime import datetime"
   ]
  }
 ],
 "metadata": {
  "kernelspec": {
   "display_name": "Python 3 (ipykernel)",
   "language": "python",
   "name": "python3"
  },
  "language_info": {
   "codemirror_mode": {
    "name": "ipython",
    "version": 3
   },
   "file_extension": ".py",
   "mimetype": "text/x-python",
   "name": "python",
   "nbconvert_exporter": "python",
   "pygments_lexer": "ipython3",
   "version": "3.12.4"
  }
 },
 "nbformat": 4,
 "nbformat_minor": 5
}
